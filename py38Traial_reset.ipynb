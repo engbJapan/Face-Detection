{
  "cells": [
    {
      "cell_type": "markdown",
      "metadata": {
        "id": "view-in-github",
        "colab_type": "text"
      },
      "source": [
        "<a href=\"https://colab.research.google.com/github/engbJapan/Face-Detection/blob/master/py38Traial_reset.ipynb\" target=\"_parent\"><img src=\"https://colab.research.google.com/assets/colab-badge.svg\" alt=\"Open In Colab\"/></a>"
      ]
    },
    {
      "cell_type": "markdown",
      "source": [
        "#**事前準備（これは必須）**\n",
        "参考にして、苦しんだりラッキーだったり。。。\n",
        "\n",
        "Colabのファイル名持ってくる：\n",
        "\n",
        "https://stackoverflow.com/questions/61901628/it-is-possible-to-assign-the-google-colab-notebook-name-to-a-python-variable-in\n",
        "\n",
        "Colabのカーネル変更python3.8へでも結局anaconda使いでColabの豊富なモジュールが使えないのです：\n",
        "\n",
        "https://zenn.dev/tk42/articles/92e34bb8910fd9\n",
        "https://stackoverflow.com/questions/60775160/install-python-3-8-kernel-in-google-colaboratory/71511943#71511943\n",
        "https://gist.github.com/ngrislain/c3ba6f687c64ce31adc6b0dff1b26d6a\n",
        "\n",
        "Colabは本当に3.8にすること厳しいのですと言ってますか？：\n",
        "\n",
        "https://github.com/googlecolab/colabtools/issues/1880#issuecomment-786682747\n",
        "\n",
        "\n",
        "Perl oneliner：\n",
        "\n",
        "http://www.redout.net/data/oneliner.html\n",
        "\n",
        "***これを真似るに求める人となりの１０の項目***\n",
        "\n",
        "\n",
        "1.   時間がある\n",
        "2.   ColabのPython3.7に困っているが、Colabの豊富なモジュールが好き\n",
        "3.   linux(UNIX)のオペレーション、特にbashとパイプに違和感が無い\n",
        "4.   正規表現（拡張正規表現）の基本的なことに違和感が無い\n",
        "5.   試したり、自学しか出来ない。\n",
        "6.   決まり事を持っていない。（決まったやり方に囚われていない）\n",
        "7.   出来ればやり方にこだわらない。\n",
        "8.   失敗して更に追及できる\n",
        "9.   人のせいにしないし、人に振らない\n",
        "10.  そんな自分が好き\n",
        "\n",
        "***では、納得して（妥協してでも）始めましょう***\n",
        "\n",
        "**以下の説明とスクリプトをColabにぶち込んでください（コピペ推奨）**\n",
        "\n",
        "```python\n",
        "##あなたのnotebookのファイル名を/content/ENGBJAPANBNAMEにセットし表示します\n",
        "#/content/ENGBJAPANBNAMEは、notebookファイルのカーネル設定メタデータの確認、変更に使います。\n",
        "# 1 Googleドライブのマウント\n",
        "from google.colab import drive\n",
        "drive.mount('/content/drive')\n",
        "# 2 あなたのnotebookのファイル名を/content/ENGBJAPANBNAMEにセットし表示します\n",
        "!printf \"from requests import get\\nfilename = get('http://172.28.0.2:9000/api/sessions').json()[0]['name']\\nprint(filename)\\nquit()\\n\" \\\n",
        " |python - \\\n",
        "  | tee  /content/ENGBJAPANBNAME\n",
        "\n",
        "!cat /content/ENGBJAPANBNAME\n",
        "\n",
        "## 3 NoteBook ファイルのカーネル情報確認\n",
        "!perl -pe 's/^.+(\\\"kernelspec\\\"\\:[^\\}]+\\}).*$/${1}/g' \"/content/drive/MyDrive/Colab Notebooks/`cat /content/ENGBJAPANBNAME`|head -1\"\n",
        "\n",
        "### 3.1 出力が残念な事に「\"kernelspec\":{\"display_name\":\"Python 3.8\",\"name\":\"engbjapanpython3.8\"}」ではない時にはnotebookを変更します。\n",
        "#以下のコードで書き換えてくれます\n",
        "!perl -pi -e 's/^(.+\\\"kernelspec\\\"\\:[^\\{]*\\{)([^\\}]+)(\\}.*)$/${1}\\\"display_name\\\":\\\"Python 3.8\\\",\\\"name\\\":\\\"engbjapanpython3\\.8\\\"${3}/' \\\n",
        "   \"/content/drive/MyDrive/Colab Notebooks/`cat /content/ENGBJAPANBNAME|head -1`\"\n",
        "\n",
        "### 3.2 そして、ブラウザでページをリロードしてください多分以下のメッセージが出ます\n",
        "\"\"\"\n",
        "”ランタイム「engbjapanpython3.8」は認識されていません。デフォルトの「python3」に接続します”\n",
        "\n",
        "これは私の目的に正しい事なのでメッセージを✖閉じしてください。\n",
        "\"\"\"\n",
        "```\n",
        "\n",
        "これで事前準備が整いました。"
      ],
      "metadata": {
        "id": "JmgdKK0vIsEf"
      }
    },
    {
      "cell_type": "code",
      "source": [
        "from google.colab import drive\n",
        "drive.mount('/content/drive')"
      ],
      "metadata": {
        "id": "CPK4HWK20FYp"
      },
      "execution_count": null,
      "outputs": []
    },
    {
      "cell_type": "code",
      "source": [
        "# 2 あなたのnotebookのファイル名を/content/ENGBJAPANBNAMEにセットし表示します\n",
        "!printf \"from requests import get\\nfilename = get('http://172.28.0.2:9000/api/sessions').json()[0]['name']\\nprint(filename)\\nquit()\\n\" \\\n",
        " |python - \\\n",
        "  | tee  /content/ENGBJAPANBNAME\n",
        "\n",
        "!cat /content/ENGBJAPANBNAME\n"
      ],
      "metadata": {
        "colab": {
          "base_uri": "https://localhost:8080/"
        },
        "id": "0JTkP-2S1OCX",
        "outputId": "918614cf-cd67-4e32-fd6d-ea389735a192"
      },
      "execution_count": null,
      "outputs": [
        {
          "output_type": "stream",
          "name": "stdout",
          "text": [
            "py38Traial-reset.ipynb\n",
            "py38Traial-reset.ipynb\n"
          ]
        }
      ]
    },
    {
      "cell_type": "code",
      "source": [
        "## 3 NoteBook ファイルのカーネル情報確認\n",
        "!perl -pe 's/^.+(\\\"kernelspec\\\"\\:[^\\}]+\\}).*$/${1}/g' \"/content/drive/MyDrive/Colab Notebooks/`cat /content/ENGBJAPANBNAME|head -1`\""
      ],
      "metadata": {
        "colab": {
          "base_uri": "https://localhost:8080/"
        },
        "id": "YrCsxlnv1kvq",
        "outputId": "14546dd4-14c5-4f8e-aa81-c3c2f7e3f4f2"
      },
      "execution_count": null,
      "outputs": [
        {
          "output_type": "stream",
          "name": "stdout",
          "text": [
            "\"kernelspec\":{\"display_name\":\"Python 3.8\",\"name\":\"engbjapanpython3.8\"}"
          ]
        }
      ]
    },
    {
      "cell_type": "code",
      "source": [
        "### 3.1 出力が残念な事に「\"kernelspec\":{\"display_name\":\"Python 3.8\",\"name\":\"engbjapanpython3.8\"}」ではない時にはnotebookを変更します。\n",
        "# 以下のコードで書き換えてくれます\n",
        "!perl -pi -e 's/^(.+\\\"kernelspec\\\"\\:[^\\{]*\\{)([^\\}]+)(\\}.*)$/${1}\\\"display_name\\\":\\\"Python 3.8\\\",\\\"name\\\":\\\"engbjapanpython3\\.8\\\"${3}/' \\\n",
        "   \"/content/drive/MyDrive/Colab Notebooks/`cat /content/ENGBJAPANBNAME|head -1`\""
      ],
      "metadata": {
        "id": "VOYXU0c92XOD"
      },
      "execution_count": null,
      "outputs": []
    },
    {
      "cell_type": "code",
      "source": [
        "### 3.2 そして、ブラウザでページをリロードしてください多分以下のメッセージが出ます\n",
        "\"\"\"\n",
        "”ランタイム「engbjapanpython3.8」は認識されていません。デフォルトの「python3」に接続します”\n",
        "\n",
        "これは私の目的に正しい事なのでメッセージを✖閉じしてください。\n",
        "\"\"\""
      ],
      "metadata": {
        "colab": {
          "base_uri": "https://localhost:8080/",
          "height": 36
        },
        "id": "oh0RZyNy2_hm",
        "outputId": "46bf2cde-78c3-439f-d21b-6aa293fe274b"
      },
      "execution_count": null,
      "outputs": [
        {
          "output_type": "execute_result",
          "data": {
            "text/plain": [
              "'\\n”ランタイム「engbjapanpython3.8」は認識されていません。デフォルトの「python3」に接続します”\\n\\nこれは私の目的に正しい事なのでメッセージを✖閉じしてください。\\n'"
            ],
            "application/vnd.google.colaboratory.intrinsic+json": {
              "type": "string"
            }
          },
          "metadata": {},
          "execution_count": 9
        }
      ]
    },
    {
      "cell_type": "markdown",
      "source": [
        "#***再セット手順の実施***\n",
        "\n",
        "1. ドライブマウント\n",
        "\n",
        " 1.1 マウント後、pythonで動作確認、起動時のヴァージョンとNumpyは使えて代入式が使えない事を確認\n",
        " <hr>\n",
        "<pre>\n",
        "!python\n",
        "Python 3.7.13 (default, Apr 24 2022, 01:04:09) \n",
        "[GCC 7.5.0] on linux\n",
        "Type \"help\", \"copyright\", \"credits\" or \"license\" for more information.\n",
        ">>> import numpy as np\n",
        ">>> np.arange(10)\n",
        "array([0, 1, 2, 3, 4, 5, 6, 7, 8, 9])\n",
        ">>> (x := 2)\n",
        "  File \"<stdin>\", line 1\n",
        "    (x := 2)\n",
        "       ^\n",
        "SyntaxError: invalid syntax\n",
        ">>> quit()\n",
        "</pre>\n",
        "<hr>\n",
        "2. apt/pip で基本Python3.8とpython3-pipを入れて\n",
        "　python3.8でpip install --upgrade {setuptools,distlib,pip}\n",
        "\n",
        "3. googleドライブのengbjapanlinpy38をpython3.8にシムリンクする\n",
        "\n",
        "4. python実行ファイルのpython3.8へのシムリンク切替\n",
        "\n",
        "5. ipykernl をengbjapanpython3.8ネームでランタイム別起動する\n",
        "\n",
        "6. リロードとランタイムタイプの切り替え\n",
        "\n",
        "***では以下のスクリプトステップを実行しましょう***\n",
        "</pre>\n",
        "```python\n",
        "# stap0 まず、pythonのversionとColbでのversionを確認し、代入式がエラーとなることを確認\n",
        "!python --version\n",
        "import sys\n",
        "print(sys.version)\n",
        "!printf \"import numpy as np\\nprint(np.arange(10))\\n(x := 1)\\nx\\nquit()\\n\" \\\n",
        "  |python -\n",
        "##########\n",
        "# Step1 ここからStep5までは一気に通して良いです\n",
        "!printf \"python3.8再起動ステップその1\\n\"\n",
        "from google.colab import drive\n",
        "drive.mount('/content/drive')\n",
        "# Step2 python3.8インタープリタとpython3-pipをinstallし、\n",
        "#  pipとCMakeをpython3.8でアップグレード（数分待つこと）\n",
        "!printf \"python3.8再起動ステップその2 数分待つ\\n\"\n",
        "!sudo apt-get install -yf python3.8\n",
        "!sudo apt-get install -yf python3-pip\n",
        "!python3.8 --version\n",
        "!python3.8 -m pip install --upgrade pip\n",
        "!python3.8 -m pip install --upgrade CMake\n",
        "# Step3 googleドライブに退避したpython3.8libモジュール群を/user/local/libpython3.8としてシムリンクを張る\n",
        "!printf \"python3.8再起動ステップその3\\n\"\n",
        "!sudo rm -fr /usr/local/lib/python3.8\n",
        "!sudo ln -sf  /content/drive/MyDrive/Colab\\ Notebooks/engbjapanlibpy38 /usr/local/lib/python3.8\n",
        "# Step4 pythonインタプリタを3.8に変更する\n",
        "!printf \"python3.8再起動ステップその4\\n\"\n",
        "!sudo ln -sf `which python3.8` /etc/alternatives/python3\n",
        "!python --version\n",
        "# 5 python3.8でipykernelを実行し\"engbjapanpython3.8\"と名付けてランタイムを別にインストールします\n",
        "!printf \"python3.8再起動ステップその5 数分待つ\\n\"\n",
        "!python -m ipykernel install --name \"engbjapanpython3.8\" --user\n",
        "# 以下の応答を確認する\n",
        "# Installed kernelspec engbjapanpython3.8 in /root/.local/share/jupyter/kernels/engbjapanpython3.8\n",
        "```\n",
        "Step6 ***ここは、手動です***\n",
        "\n",
        "そうしたら、Colabメニュー＞ランタイム＞ランタイムタイプの変更＞表示されたダイアログで、ランタイムタイプPython3.8選択＞「保存」\n",
        "\n",
        "すると、Colabが勝手にランタイムを切って再接続します。（数分かかりますが、Colabがこれをしない場合は、上手く行っていないです）\n",
        "```python\n",
        "# Step7 pythonのversionとColbでのversionを確認し、代入式が出来ることを確認\n",
        "!printf \"python3.8再起動ステップその8\\n\"\n",
        "!python --version\n",
        "import sys\n",
        "print(sys.version)\n",
        "# 以下のpythonコードをpyhonに与えます\n",
        "\"\"\"\n",
        "import numpy as np \n",
        "print(np.arange(10))\n",
        "(x := 1)\n",
        "quit()\n",
        "\"\"\"\n",
        "!printf \"import numpy as np \\nprint(np.arange(10)) \\n(x := 1) \\nprint(x) \\nquit() \\n\" \\\n",
        "  |python -\n",
        "# Colab上での代入式を行う\n",
        "(engbx := 10)\n",
        "print(engbx)\n",
        "\n",
        "# Step8 Ipython,google.colabモジュールを使ったPython関数とJavaScript連携を試してみます\n",
        "# これは、google.colabやIpython系がpipせずとも、正常に動作する確認になします。\n",
        "import IPython\n",
        "from google.colab import output\n",
        "\n",
        "def Concat(a, b):\n",
        "  # Use display.JSON to transfer a structured result.\n",
        "  return IPython.display.JSON({'result': ' '.join((a, b))})\n",
        "\n",
        "output.register_callback('notebook.Concat', Concat)\n",
        "#####これを実行後は、次のセルで以下を実行します\n",
        "%%javascript\n",
        "(async function() {\n",
        "  const result = await google.colab.kernel.invokeFunction(\n",
        "    'notebook.Concat', // The callback name.\n",
        "    ['hello', 'Python3.8!'], // The arguments.\n",
        "    {}); // kwargs\n",
        "  const text = result.data['application/json'];\n",
        "  document.querySelector(\"#output-area\").appendChild(document.createTextNode(text.result));\n",
        "})();\n",
        "```\n",
        "\n",
        "***以上、レッツエンジョイ♪***\n"
      ],
      "metadata": {
        "id": "ZEhkIrXxxKH_"
      }
    },
    {
      "cell_type": "code",
      "source": [
        "# stap0 まず、pythonのversionとColbでのversionを確認し、代入式がエラーとなることを確認\n",
        "!python --version\n",
        "import sys\n",
        "print(sys.version)\n",
        "!printf \"import numpy as np\\nprint(np.arange(10))\\n(x := 1)\\nx\\nquit()\\n\" \\\n",
        "  |python -"
      ],
      "metadata": {
        "colab": {
          "base_uri": "https://localhost:8080/"
        },
        "id": "XxHjRqig5b9e",
        "outputId": "82c18f29-935c-4ae2-eb58-72754aee6b42"
      },
      "execution_count": 2,
      "outputs": [
        {
          "output_type": "stream",
          "name": "stdout",
          "text": [
            "Python 3.7.13\n",
            "3.7.13 (default, Apr 24 2022, 01:04:09) \n",
            "[GCC 7.5.0]\n",
            "  File \"<stdin>\", line 3\n",
            "    (x := 1)\n",
            "       ^\n",
            "SyntaxError: invalid syntax\n"
          ]
        }
      ]
    },
    {
      "cell_type": "code",
      "source": [
        "!sudo python3.8 -m pip list | grep ipy"
      ],
      "metadata": {
        "colab": {
          "base_uri": "https://localhost:8080/"
        },
        "id": "LOyBzKlZtJxx",
        "outputId": "556aef05-194e-4418-8cef-dc9f00482126"
      },
      "execution_count": 4,
      "outputs": [
        {
          "output_type": "stream",
          "name": "stdout",
          "text": [
            "ipykernel                     6.15.1\n",
            "ipython                       8.4.0\n",
            "ipython-genutils              0.2.0\n",
            "ipywidgets                    8.0.1\n",
            "scipy                         1.7.3\n"
          ]
        }
      ]
    },
    {
      "cell_type": "code",
      "source": [
        "# Step1 ここからStep5までは一気に通して良いです\n",
        "!printf \"python3.8再起動ステップその1\\n\"\n",
        "from google.colab import drive\n",
        "drive.mount('/content/drive')\n",
        "# Step2 python3.8インタープリタとpython3-pipをinstallし、\n",
        "#  pipとCMakeをpython3.8でアップグレード（数分待つこと）\n",
        "!printf \"python3.8再起動ステップその2 数分待つ\\n\"\n",
        "!sudo apt-get install -yf python3.8\n",
        "!sudo apt-get install -yf python3-pip\n",
        "!python3.8 --version\n",
        "!python3.8 -m pip install --upgrade pip\n",
        "!python3.8 -m pip install --upgrade CMake\n",
        "# Step3 googleドライブに退避したpython3.8libモジュール群を/user/local/libpython3.8としてシムリンクを張る\n",
        "!printf \"python3.8再起動ステップその3\\n\"\n",
        "!sudo rm -fr /usr/local/lib/python3.8\n",
        "!sudo ln -sf  /content/drive/MyDrive/Colab\\ Notebooks/engbjapanlibpy38 /usr/local/lib/python3.8\n",
        "# Step4 pythonインタプリタを3.8に変更する\n",
        "!printf \"python3.8再起動ステップその4\\n\"\n",
        "!sudo ln -sf `which python3.8` /etc/alternatives/python3\n",
        "!python --version\n",
        "# 5 3.8になったpythonでipkykernel実行し\"engbjapanpython3.8\"と名付けてランタイムを別にインストールします\n",
        "!printf \"python3.8再起動ステップその5 数分待つ\\n\"\n",
        "!sudo python -m ipykernel install --name \"engbjapanpython3.8\" --user\n",
        "# 以下の応答を確認する\n",
        "# Installed kernelspec engbjapanpython3.8 in /root/.local/share/jupyter/kernels/engbjapanpython3.8"
      ],
      "metadata": {
        "id": "LQh1eAgL5uvz",
        "colab": {
          "base_uri": "https://localhost:8080/"
        },
        "outputId": "e9eef330-7826-4caa-9c75-4b865b9996c7"
      },
      "execution_count": 5,
      "outputs": [
        {
          "output_type": "stream",
          "name": "stdout",
          "text": [
            "python3.8再起動ステップその1\n",
            "Drive already mounted at /content/drive; to attempt to forcibly remount, call drive.mount(\"/content/drive\", force_remount=True).\n",
            "python3.8再起動ステップその2 数分待つ\n",
            "Reading package lists... Done\n",
            "Building dependency tree       \n",
            "Reading state information... Done\n",
            "python3.8 is already the newest version (3.8.13-1+bionic2).\n",
            "The following package was automatically installed and is no longer required:\n",
            "  libnvidia-common-460\n",
            "Use 'sudo apt autoremove' to remove it.\n",
            "0 upgraded, 0 newly installed, 0 to remove and 20 not upgraded.\n",
            "Reading package lists... Done\n",
            "Building dependency tree       \n",
            "Reading state information... Done\n",
            "python3-pip is already the newest version (9.0.1-2.3~ubuntu1.18.04.5).\n",
            "The following package was automatically installed and is no longer required:\n",
            "  libnvidia-common-460\n",
            "Use 'sudo apt autoremove' to remove it.\n",
            "0 upgraded, 0 newly installed, 0 to remove and 20 not upgraded.\n",
            "Python 3.8.13\n",
            "Looking in indexes: https://pypi.org/simple, https://us-python.pkg.dev/colab-wheels/public/simple/\n",
            "Requirement already satisfied: pip in ./drive/MyDrive/Colab Notebooks/engbjapanlibpy38/dist-packages (22.2.2)\n",
            "\u001b[33mWARNING: Running pip as the 'root' user can result in broken permissions and conflicting behaviour with the system package manager. It is recommended to use a virtual environment instead: https://pip.pypa.io/warnings/venv\u001b[0m\u001b[33m\n",
            "\u001b[0mpython3.8再起動ステップその3\n",
            "python3.8再起動ステップその4\n",
            "Python 3.8.13\n",
            "python3.8再起動ステップその5 数分待つ\n",
            "/usr/bin/python3: No module named ipykernel.__main__; 'ipykernel' is a package and cannot be directly executed\n"
          ]
        }
      ]
    },
    {
      "cell_type": "code",
      "source": [
        "# Step7 pythonのversionとColbでのversionを確認し、代入式が出来ることを確認\n",
        "!printf \"python3.8再起動ステップその8\\n\"\n",
        "!python --version\n",
        "import sys\n",
        "print(sys.version)\n",
        "# 以下のpythonコードをpyhonに与えます\n",
        "\"\"\"\n",
        "import numpy as np \n",
        "print(np.arange(10))\n",
        "(x := 1)\n",
        "quit()\n",
        "\"\"\"\n",
        "!printf \"import numpy as np \\nprint(np.arange(10)) \\n(x := 1) \\nprint(x) \\nquit() \\n\" \\\n",
        "  |python -\n",
        "# Colab上での代入式を行う\n",
        "(engbx := 10)\n",
        "print(engbx)\n"
      ],
      "metadata": {
        "colab": {
          "base_uri": "https://localhost:8080/"
        },
        "id": "hUNwX9EZCKeQ",
        "outputId": "c4c0ee2c-6cc9-4b7d-acc5-dcbd01eed48b"
      },
      "execution_count": null,
      "outputs": [
        {
          "output_type": "stream",
          "name": "stdout",
          "text": [
            "python3.8再起動ステップその8\n",
            "Python 3.8.13\n",
            "3.8.13 (default, Apr 19 2022, 00:53:22) \n",
            "[GCC 7.5.0]\n",
            "[0 1 2 3 4 5 6 7 8 9]\n",
            "1\n",
            "10\n"
          ]
        }
      ]
    },
    {
      "cell_type": "code",
      "source": [
        "# Step8 Ipython,google.colabモジュールを使ったPython関数とJavaScript連携を試してみます\n",
        "# これは、google.colabやIpython系がpipせずとも、正常に動作する確認になします。\n",
        "import IPython\n",
        "from google.colab import output\n",
        "\n",
        "def Concat(a, b):\n",
        "  # Use display.JSON to transfer a structured result.\n",
        "  return IPython.display.JSON({'result': ' '.join((a, b))})\n",
        "\n",
        "output.register_callback('notebook.Concat', Concat)"
      ],
      "metadata": {
        "id": "RR-UDr06FTjw"
      },
      "execution_count": null,
      "outputs": []
    },
    {
      "cell_type": "code",
      "source": [
        "##### これを実行後は、次のセルで以下を実行します\n",
        "%%javascript\n",
        "(async function() {\n",
        "  const result = await google.colab.kernel.invokeFunction(\n",
        "    'notebook.Concat', // The callback name.\n",
        "    ['hello', 'Python3.8!'], // The arguments.\n",
        "    {}); // kwargs\n",
        "  const text = result.data['application/json'];\n",
        "  document.querySelector(\"#output-area\").appendChild(document.createTextNode(text.result));\n",
        "})();"
      ],
      "metadata": {
        "colab": {
          "base_uri": "https://localhost:8080/",
          "height": 34
        },
        "id": "DQsE82L7FV5A",
        "outputId": "26766aa8-bfd4-458e-f26e-e53d96c39b74"
      },
      "execution_count": null,
      "outputs": [
        {
          "output_type": "display_data",
          "data": {
            "text/plain": [
              "<IPython.core.display.Javascript object>"
            ],
            "application/javascript": [
              "(async function() {\n",
              "  const result = await google.colab.kernel.invokeFunction(\n",
              "    'notebook.Concat', // The callback name.\n",
              "    ['hello', 'Python3.8!'], // The arguments.\n",
              "    {}); // kwargs\n",
              "  const text = result.data['application/json'];\n",
              "  document.querySelector(\"#output-area\").appendChild(document.createTextNode(text.result));\n",
              "})();\n"
            ]
          },
          "metadata": {}
        }
      ]
    },
    {
      "cell_type": "markdown",
      "source": [
        "# NANDだけ作ればいけますよね"
      ],
      "metadata": {
        "id": "f6i4B7BVq6IW"
      }
    },
    {
      "cell_type": "code",
      "source": [
        "import numpy as np\n",
        "def NAND(x1, x2):\n",
        "    x = np.array([x1, x2])\n",
        "    w = np.array([-0.5, -0.5])\n",
        "    b = 0.7\n",
        "    tmp = np.sum(w*x) + b\n",
        "    if tmp <= 0:\n",
        "        return 0\n",
        "    else:\n",
        "        return 1\n",
        "\n",
        "def AND(x1, x2):\n",
        "    s1 = NAND(x1,x2)\n",
        "    return NAND(s1,s1)\n",
        "def NOT(x1):\n",
        "  return NAND(x1,1)\n",
        "def OR(x1,x2):\n",
        "    return NAND(NOT(x1), NOT(x2))\n",
        "def XOR(x1,x2):\n",
        "    return AND(NAND(x1,x2),\n",
        "    OR(x1,x2))\n",
        "    \n",
        "\n",
        "#if __name__ == '__main__':\n",
        "print(\"x1,x2  AND NAND OR XOR\")\n",
        "for xs in [(0, 0), (1, 0), (0, 1), (1, 1)]:\n",
        "        print(f\"{str(xs)} -> {str(AND(xs[0], xs[1]))}   {str(NAND(xs[0], xs[1]))}  {str(OR(xs[0], xs[1]))} {str(XOR(xs[0], xs[1]))}\"\n",
        "        )"
      ],
      "metadata": {
        "colab": {
          "base_uri": "https://localhost:8080/"
        },
        "outputId": "c1231066-35cf-4a88-ae53-a89757fb9a9a",
        "id": "1m2cNcp4Qxfj"
      },
      "execution_count": null,
      "outputs": [
        {
          "output_type": "stream",
          "name": "stdout",
          "text": [
            "x1,x2  AND NAND OR XOR\n",
            "(0, 0) -> 0   1  0 0\n",
            "(1, 0) -> 0   1  1 1\n",
            "(0, 1) -> 0   1  1 1\n",
            "(1, 1) -> 1   0  1 0\n"
          ]
        }
      ]
    }
  ],
  "metadata": {
    "colab": {
      "collapsed_sections": [],
      "name": "py38Traial-reset.ipynb",
      "provenance": [],
      "toc_visible": true,
      "include_colab_link": true
    },
    "kernelspec": {
      "display_name": "Python 3.8",
      "name": "engbjapanpython3.8"
    },
    "gpuClass": "standard",
    "language_info": {
      "name": "python"
    }
  },
  "nbformat": 4,
  "nbformat_minor": 0
}